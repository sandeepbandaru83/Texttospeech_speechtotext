{
 "cells": [
  {
   "cell_type": "code",
   "execution_count": 2,
   "id": "bd3e497f-ea6e-4a8c-840b-d99e322df455",
   "metadata": {},
   "outputs": [
    {
     "name": "stdout",
     "output_type": "stream",
     "text": [
      "🔊 Text-to-Speech & Speech-to-Text Converter\n",
      "Press:\n",
      "   T → Convert Text to Speech\n",
      "   S → Convert Speech to Text\n",
      "   Q → Quit\n"
     ]
    },
    {
     "name": "stdin",
     "output_type": "stream",
     "text": [
      "\n",
      "Enter option (T/S/Q):  t\n",
      "📝 Enter text:  Haii\n",
      "💾 Save to file? (y/n):  n\n",
      "\n",
      "Enter option (T/S/Q):  q\n"
     ]
    },
    {
     "name": "stdout",
     "output_type": "stream",
     "text": [
      "👋 Exiting program...\n"
     ]
    }
   ],
   "source": [
    "import pyttsx3\n",
    "import speech_recognition as sr\n",
    "\n",
    "# ---------- Text-to-Speech ----------\n",
    "def text_to_speech(text, lang=\"en\", save_audio=False, filename=\"output.mp3\"):\n",
    "    engine = pyttsx3.init()\n",
    "    \n",
    "    # Set voice (0 = male, 1 = female, may vary by system)\n",
    "    voices = engine.getProperty(\"voices\")\n",
    "    engine.setProperty(\"voice\", voices[0].id)\n",
    "    \n",
    "    # Set speaking rate & volume\n",
    "    engine.setProperty(\"rate\", 160)\n",
    "    engine.setProperty(\"volume\", 1.0)\n",
    "    \n",
    "    if save_audio:\n",
    "        engine.save_to_file(text, filename)\n",
    "        engine.runAndWait()\n",
    "        print(f\"✅ Saved speech to {filename}\")\n",
    "    else:\n",
    "        engine.say(text)\n",
    "        engine.runAndWait()\n",
    "\n",
    "# ---------- Speech-to-Text ----------\n",
    "def speech_to_text(lang=\"en-IN\"):\n",
    "    recognizer = sr.Recognizer()\n",
    "    with sr.Microphone() as source:\n",
    "        print(\"🎤 Speak now (Ctrl+C to stop)...\")\n",
    "        recognizer.adjust_for_ambient_noise(source)\n",
    "        audio = recognizer.listen(source)\n",
    "    try:\n",
    "        print(\"⏳ Recognizing...\")\n",
    "        text = recognizer.recognize_google(audio, language=lang)\n",
    "        print(f\"✅ You said: {text}\")\n",
    "        return text\n",
    "    except sr.UnknownValueError:\n",
    "        print(\"❌ Could not understand audio.\")\n",
    "    except sr.RequestError:\n",
    "        print(\"⚠️ Could not request results; check internet connection.\")\n",
    "    return None\n",
    "\n",
    "# ---------- Main ----------\n",
    "if __name__ == \"__main__\":\n",
    "    print(\"🔊 Text-to-Speech & Speech-to-Text Converter\")\n",
    "    print(\"Press:\")\n",
    "    print(\"   T → Convert Text to Speech\")\n",
    "    print(\"   S → Convert Speech to Text\")\n",
    "    print(\"   Q → Quit\")\n",
    "\n",
    "    while True:\n",
    "        choice = input(\"\\nEnter option (T/S/Q): \").strip().upper()\n",
    "\n",
    "        if choice == \"T\":\n",
    "            user_text = input(\"📝 Enter text: \")\n",
    "            save = input(\"💾 Save to file? (y/n): \").lower()\n",
    "            if save == \"y\":\n",
    "                text_to_speech(user_text, save_audio=True)\n",
    "            else:\n",
    "                text_to_speech(user_text)\n",
    "\n",
    "        elif choice == \"S\":\n",
    "            speech_to_text()\n",
    "\n",
    "        elif choice == \"Q\":\n",
    "            print(\"👋 Exiting program...\")\n",
    "            break\n",
    "        else:\n",
    "            print(\"⚠️ Invalid option! Please choose T, S, or Q.\")\n"
   ]
  },
  {
   "cell_type": "code",
   "execution_count": null,
   "id": "5cb0b8da-981e-4a18-9757-8f4f1442cd7c",
   "metadata": {},
   "outputs": [],
   "source": []
  }
 ],
 "metadata": {
  "kernelspec": {
   "display_name": "Python 3 (ipykernel)",
   "language": "python",
   "name": "python3"
  },
  "language_info": {
   "codemirror_mode": {
    "name": "ipython",
    "version": 3
   },
   "file_extension": ".py",
   "mimetype": "text/x-python",
   "name": "python",
   "nbconvert_exporter": "python",
   "pygments_lexer": "ipython3",
   "version": "3.12.7"
  }
 },
 "nbformat": 4,
 "nbformat_minor": 5
}
